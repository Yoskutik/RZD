{
 "cells": [
  {
   "cell_type": "code",
   "execution_count": null,
   "metadata": {
    "colab": {},
    "colab_type": "code",
    "id": "zyJpxdmrSpOf"
   },
   "outputs": [],
   "source": [
    "!pip install --upgrade -q statsmodels"
   ]
  },
  {
   "cell_type": "code",
   "execution_count": null,
   "metadata": {
    "colab": {},
    "colab_type": "code",
    "id": "IDDqOrDPPRCz"
   },
   "outputs": [],
   "source": [
    "import pandas as pd\n",
    "import numpy as np\n",
    "import statsmodels.api as sm\n",
    "\n",
    "from sklearn.metrics import mean_absolute_error\n",
    "from sklearn.linear_model import LinearRegression\n",
    "from sklearn.preprocessing import StandardScaler\n",
    "from sklearn.pipeline import Pipeline\n",
    "\n",
    "import warnings\n",
    "warnings.filterwarnings('ignore')"
   ]
  },
  {
   "cell_type": "markdown",
   "metadata": {
    "colab_type": "text",
    "id": "RyXP2OZVgAx6"
   },
   "source": [
    "## Чтение данных\n",
    "\n",
    "`forest.csv` - это заранее подготовленный файл на основе файла `4.2 лесные перевозки.xlsx`. В нём уже отсечён левый хвост ряда, добавлено смещение для основных столбцов (кроме Экспорта) и добавленны дополнительные столбцы с сезонным смещением."
   ]
  },
  {
   "cell_type": "code",
   "execution_count": null,
   "metadata": {
    "colab": {
     "base_uri": "https://localhost:8080/",
     "height": 173
    },
    "colab_type": "code",
    "id": "qUGp2ZgZPTmK",
    "outputId": "f93f51e7-1f74-48d4-8251-1ec28c577330"
   },
   "outputs": [
    {
     "data": {
      "text/html": [
       "<div>\n",
       "<style scoped>\n",
       "    .dataframe tbody tr th:only-of-type {\n",
       "        vertical-align: middle;\n",
       "    }\n",
       "\n",
       "    .dataframe tbody tr th {\n",
       "        vertical-align: top;\n",
       "    }\n",
       "\n",
       "    .dataframe thead th {\n",
       "        text-align: right;\n",
       "    }\n",
       "</style>\n",
       "<table border=\"1\" class=\"dataframe\">\n",
       "  <thead>\n",
       "    <tr style=\"text-align: right;\">\n",
       "      <th></th>\n",
       "      <th>InTransit</th>\n",
       "      <th>Export</th>\n",
       "      <th>Import</th>\n",
       "      <th>Transit</th>\n",
       "    </tr>\n",
       "    <tr>\n",
       "      <th>Month</th>\n",
       "      <th></th>\n",
       "      <th></th>\n",
       "      <th></th>\n",
       "      <th></th>\n",
       "    </tr>\n",
       "  </thead>\n",
       "  <tbody>\n",
       "    <tr>\n",
       "      <th>2009-01-01</th>\n",
       "      <td>1694047</td>\n",
       "      <td>1018906</td>\n",
       "      <td>49290</td>\n",
       "      <td>111695</td>\n",
       "    </tr>\n",
       "    <tr>\n",
       "      <th>2009-02-01</th>\n",
       "      <td>1585617</td>\n",
       "      <td>1486894</td>\n",
       "      <td>21050</td>\n",
       "      <td>43256</td>\n",
       "    </tr>\n",
       "    <tr>\n",
       "      <th>2009-03-01</th>\n",
       "      <td>1623911</td>\n",
       "      <td>2363698</td>\n",
       "      <td>23123</td>\n",
       "      <td>39875</td>\n",
       "    </tr>\n",
       "  </tbody>\n",
       "</table>\n",
       "</div>"
      ],
      "text/plain": [
       "            InTransit   Export  Import  Transit\n",
       "Month                                          \n",
       "2009-01-01    1694047  1018906   49290   111695\n",
       "2009-02-01    1585617  1486894   21050    43256\n",
       "2009-03-01    1623911  2363698   23123    39875"
      ]
     },
     "execution_count": 3,
     "metadata": {
      "tags": []
     },
     "output_type": "execute_result"
    }
   ],
   "source": [
    "df = pd.read_csv('data/forest.csv', index_col='Month', parse_dates=['Month'])\n",
    "df = df.asfreq('MS')\n",
    "df.iloc[:, :4].head(3)"
   ]
  },
  {
   "cell_type": "markdown",
   "metadata": {
    "colab_type": "text",
    "id": "Kz50ymOKgfxh"
   },
   "source": [
    "## Деление данных"
   ]
  },
  {
   "cell_type": "code",
   "execution_count": null,
   "metadata": {
    "colab": {
     "base_uri": "https://localhost:8080/",
     "height": 34
    },
    "colab_type": "code",
    "id": "uUDrbvTCSFLM",
    "outputId": "95089f4d-be9b-4183-bf79-f760b517cc13"
   },
   "outputs": [
    {
     "name": "stdout",
     "output_type": "stream",
     "text": [
      "В тренировочной выборке находится 96 элементов\n"
     ]
    }
   ],
   "source": [
    "train_size = int(df.shape[0] * 0.8)\n",
    "df_train = df.iloc[:train_size]\n",
    "df_test  = df.iloc[train_size:]\n",
    "print(f'В тренировочной выборке находится {train_size} элементов')"
   ]
  },
  {
   "cell_type": "markdown",
   "metadata": {
    "colab_type": "text",
    "id": "sNJdGcEggkvf"
   },
   "source": [
    "Подбор моделей, включенных в новую мета-модель, проводился среди:\n",
    "  - __SARIMAX__. Её существующей лучшей версии;\n",
    "  - __VAR__, __VARMA__, __VARMAX__. Лучшим образом среди этого семейства себя показал алгоритм __VARMA(2,1)__\n",
    "  - __Facebook Prophet__. Несмотря на простоту использования, результаты предсказания этой модели в вакууме были на порядок ниже, чем у моделей выше. Также включение её в мета-модель значительно снижало качество предсказания.\n",
    "  - __LinearRegression__, __ElasticNet__, __etc.__ Был проведён анализ линейных неавторегрессионных моделей. На вход подавались данные по производству, ценам, импорту, транзиту и внутренним перевозкам. Все подобные модели в силу отсутствия авторегрессионной составляющей результаты с оценкой R2 менее -1.5. По этой причине подобные модели не были учтены в мета-модели.\n",
    "  - Также с уже существующими моделями __VARMA__ и __SARIMAX__ были проведены опыты по добавлению дополнительных переменных в виде цены древесины. К улучшению результату это не привело.\n"
   ]
  },
  {
   "cell_type": "code",
   "execution_count": null,
   "metadata": {
    "colab": {},
    "colab_type": "code",
    "id": "4RyRkI_IPsYD"
   },
   "outputs": [],
   "source": [
    "def create_arima(df):\n",
    "    df = df.copy()\n",
    "    exog = df.loc[:, ['InTransit', 'Import', 'Transit']]\n",
    "    model = sm.tsa.arima.ARIMA(df.Export, order=(1, 0, 3), seasonal_order=(1, 1, 1, 12), exog=exog).fit()\n",
    "    return model\n",
    "\n",
    "def create_varma(df):\n",
    "    df = df.copy()\n",
    "    endog = df.loc[:, ['InTransit_Si', 'Export_Si', 'Import_Si', 'Transit_Si']].dropna()\n",
    "    model = sm.tsa.VARMAX(endog, order=(2, 1)).fit(max_iter=2*10**3)\n",
    "    return model"
   ]
  },
  {
   "cell_type": "code",
   "execution_count": null,
   "metadata": {
    "colab": {},
    "colab_type": "code",
    "id": "_lk2zpCDQjVq"
   },
   "outputs": [],
   "source": [
    "arima = create_arima(df_train)\n",
    "varma = create_varma(df_train)"
   ]
  },
  {
   "cell_type": "code",
   "execution_count": null,
   "metadata": {
    "colab": {},
    "colab_type": "code",
    "id": "GqNnKZlQSZgc"
   },
   "outputs": [],
   "source": [
    "X = np.zeros([varma.fittedvalues.shape[0], 2])\n",
    "i = 96 - varma.fittedvalues.shape[0]\n",
    "X[:, 0] = arima.fittedvalues[i:]\n",
    "X[:, 1] = varma.fittedvalues.Export_Si"
   ]
  },
  {
   "cell_type": "markdown",
   "metadata": {
    "colab_type": "text",
    "id": "UN8Dc_iHleFb"
   },
   "source": [
    "Как итог, мета-модель содержит в себе 2 модели - __VARMA__ и __SARIMAX__. Каждая из этих моделей генерирует свой вектор предсказаний. Следовательно, мета-регрессор должен быть достаточно простой моделью, способной правильно работать с двумя переменными. В качестве такого регрессора наилучшым образом подошел __LinearRegression__.\n",
    "\n",
    "В дополнению к нему добавлен __StandartScaler__ во избежания проблем с данными разного масштаба."
   ]
  },
  {
   "cell_type": "code",
   "execution_count": null,
   "metadata": {
    "colab": {},
    "colab_type": "code",
    "id": "Rov1d9ouTs1c"
   },
   "outputs": [],
   "source": [
    "y = df_train.Export.values[i:]\n",
    "\n",
    "pipe = Pipeline([\n",
    "    ['scaler', StandardScaler()],\n",
    "    ['regressor', LinearRegression()],\n",
    "])\n",
    "\n",
    "pipe = pipe.fit(X, y)"
   ]
  },
  {
   "cell_type": "markdown",
   "metadata": {
    "colab_type": "text",
    "id": "Y5CVS6LqmUEU"
   },
   "source": [
    "## Оценка на тренировочных данных"
   ]
  },
  {
   "cell_type": "code",
   "execution_count": null,
   "metadata": {
    "colab": {
     "base_uri": "https://localhost:8080/",
     "height": 51
    },
    "colab_type": "code",
    "id": "a7u5VDghUYZ3",
    "outputId": "fbffd9b9-7e71-49c7-9281-f992708bb643"
   },
   "outputs": [
    {
     "name": "stdout",
     "output_type": "stream",
     "text": [
      "MAE [arima]: 87176\n",
      "MAE [meta]:  88188\n"
     ]
    }
   ],
   "source": [
    "print(f'MAE [arima]: {mean_absolute_error(y, X[:, 0]):.0f}')\n",
    "print(f'MAE [meta]:  {mean_absolute_error(y, pipe.predict(X)):.0f}')"
   ]
  },
  {
   "cell_type": "markdown",
   "metadata": {
    "colab_type": "text",
    "id": "q-DTTs90meC3"
   },
   "source": [
    "## Оценка на тестовых данных"
   ]
  },
  {
   "cell_type": "code",
   "execution_count": null,
   "metadata": {
    "colab": {},
    "colab_type": "code",
    "id": "Q7T9A2w5U5CK"
   },
   "outputs": [],
   "source": [
    "X_test = np.zeros([df_test.shape[0], 2])\n",
    "\n",
    "X_test[:, 0] = arima.predict(start=df_test.index.min(), end=df_test.index.max(), \n",
    "                               exog=df_test.loc[:, ['InTransit', 'Import', 'Transit']])\n",
    "X_test[:, 1] = varma.predict(start=df_test.index.min(), end=df_test.index.max()).Export_Si"
   ]
  },
  {
   "cell_type": "code",
   "execution_count": null,
   "metadata": {
    "colab": {
     "base_uri": "https://localhost:8080/",
     "height": 51
    },
    "colab_type": "code",
    "id": "MRzcZK9qVSDr",
    "outputId": "74c1e00e-d593-45b2-c875-0a65ae4ce95d"
   },
   "outputs": [
    {
     "name": "stdout",
     "output_type": "stream",
     "text": [
      "MAE [arima]: 70302\n",
      "MAE [meta]:  70145\n"
     ]
    }
   ],
   "source": [
    "print(f'MAE [arima]: {mean_absolute_error(df_test.Export, X_test[:, 0]):.0f}')\n",
    "print(f'MAE [meta]:  {mean_absolute_error(df_test.Export, pipe.predict(X_test)):.0f}')"
   ]
  },
  {
   "cell_type": "markdown",
   "metadata": {
    "colab_type": "text",
    "id": "-QM8nE4Smlav"
   },
   "source": [
    "Как видно, мета-регрессор показывает крайне незначительный рост качества. Этот прирост может быть, как действительным улучшением, так и статистической ошибкой."
   ]
  }
 ],
 "metadata": {
  "colab": {
   "collapsed_sections": [],
   "name": "MetaForest.ipynb",
   "provenance": []
  },
  "kernelspec": {
   "display_name": "Python 3",
   "language": "python",
   "name": "python3"
  },
  "language_info": {
   "codemirror_mode": {
    "name": "ipython",
    "version": 3
   },
   "file_extension": ".py",
   "mimetype": "text/x-python",
   "name": "python",
   "nbconvert_exporter": "python",
   "pygments_lexer": "ipython3",
   "version": "3.7.6"
  }
 },
 "nbformat": 4,
 "nbformat_minor": 1
}
